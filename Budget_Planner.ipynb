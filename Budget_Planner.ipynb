{
 "cells": [
  {
   "cell_type": "code",
   "execution_count": null,
   "metadata": {},
   "outputs": [],
   "source": [
    "# Budget Planner Program"
   ]
  },
  {
   "cell_type": "code",
   "execution_count": null,
   "metadata": {},
   "outputs": [],
   "source": [
    "# Function to calculate the amount for each category\n",
    "def calculate_budget(income, percentages):\n",
    "    budget = {}\n",
    "    for category, percent in percentages.items():\n",
    "        budget[category] = income * (percent / 100)\n",
    "    return budget"
   ]
  },
  {
   "cell_type": "code",
   "execution_count": null,
   "metadata": {},
   "outputs": [],
   "source": [
    "# Gather user inputs\n",
    "name = input(\"Please enter your name: \")\n",
    "monthly_income = float(input(\"Enter your monthly income: \"))"
   ]
  },
  {
   "cell_type": "code",
   "execution_count": null,
   "metadata": {},
   "outputs": [],
   "source": [
    "# Define the budget categories and the percentage allocations\n",
    "print(\"Please enter the percentage of your income you'd like to allocate to each category.\")\n",
    "percentages = {\n",
    "    \"Savings\": float(input(\"Savings (%): \")),\n",
    "    \"Rent\": float(input(\"Rent (%): \")),\n",
    "    \"Groceries\": float(input(\"Groceries (%): \")),\n",
    "    \"Utilities\": float(input(\"Utilities (%): \")),\n",
    "    \"Entertainment\": float(input(\"Entertainment (%): \"))\n",
    "}"
   ]
  },
  {
   "cell_type": "code",
   "execution_count": null,
   "metadata": {},
   "outputs": [],
   "source": [
    "# Calculate the budget\n",
    "budget_allocation = calculate_budget(monthly_income, percentages)"
   ]
  },
  {
   "cell_type": "code",
   "execution_count": null,
   "metadata": {},
   "outputs": [],
   "source": [
    "# Display the budget\n",
    "print(f\"\\n{name}'s Budget Plan:\")\n",
    "for category, amount in budget_allocation.items():\n",
    "    print(f\"{category}: ${amount:.2f}\")"
   ]
  }
 ],
 "metadata": {
  "kernelspec": {
   "display_name": "Python 3",
   "language": "python",
   "name": "python3"
  },
  "language_info": {
   "codemirror_mode": {
    "name": "ipython",
    "version": 3
   },
   "file_extension": ".py",
   "mimetype": "text/x-python",
   "name": "python",
   "nbconvert_exporter": "python",
   "pygments_lexer": "ipython3",
   "version": "3.8.3"
  }
 },
 "nbformat": 4,
 "nbformat_minor": 4
}
